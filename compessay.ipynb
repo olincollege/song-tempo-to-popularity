{
 "cells": [
  {
   "cell_type": "markdown",
   "metadata": {},
   "source": [
    "# How does BPM correlate with song popularity over time? #\n",
    "A computational essay by: Richard Li, Suki Sacks, Norah Evans "
   ]
  },
  {
   "cell_type": "markdown",
   "metadata": {},
   "source": [
    "# Introduction: #\n",
    "\n",
    "Over the past few years of human existence, *everything* has gotten faster. Instant deliveries, messaging, food, etc. A common critique of the 21st century is that it's built on speed. Our group wondered if that holds true for songs. Have we begun enjoying faster songs as everything around us accelerates?"
   ]
  },
  {
   "cell_type": "markdown",
   "metadata": {},
   "source": [
    "# Method #\n",
    "\n",
    "In order to do this, we must accomplish 3 things:\n",
    "\n",
    "1. Find a metric for popularity among songs in a year\n",
    "2. Find the BPM of those songs\n",
    "3. Average the BPM and chart the trends over the course of many years\n",
    "\n",
    "Each of these things occur in 3 files:\n",
    "1. billboard.py\n",
    "2. bpm.py\n",
    "3. visualization.py\n"
   ]
  }
 ],
 "metadata": {
  "language_info": {
   "name": "python"
  },
  "orig_nbformat": 4
 },
 "nbformat": 4,
 "nbformat_minor": 2
}
