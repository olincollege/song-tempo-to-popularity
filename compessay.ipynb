{
 "cells": [
  {
   "cell_type": "markdown",
   "metadata": {},
   "source": [
    "# How does BPM correlate with song popularity over time? #\n",
    "A computational essay by Richard Li, Natsuki Sacks, Norah Evans "
   ]
  },
  {
   "cell_type": "markdown",
   "metadata": {},
   "source": [
    "# Introduction #\n",
    "\n",
    "Over the past few years of human existence, *everything* has gotten faster. Instant deliveries, messaging, food, etc. A common critique of the 21st century is that it's built on speed. Our group wondered if that holds true for songs. Have we begun enjoying faster songs as everything around us accelerates?"
   ]
  },
  {
   "cell_type": "code",
   "execution_count": 2,
   "metadata": {},
   "outputs": [],
   "source": [
    "# Import code for scraping and cleaning data\n",
    "# from billboard import *\n",
    "# from billboard_functions import *\n",
    "import requests\n",
    "from bs4 import BeautifulSoup"
   ]
  },
  {
   "cell_type": "markdown",
   "metadata": {},
   "source": [
    "# Methodology #\n",
    "\n",
    "In order to answer our research question of whether the average tempo of the most popular songs has increased in the modern era, we must accomplish 3 things:\n",
    "\n",
    "1. Find a metric for popularity among songs in a year\n",
    "2. Find the BPM of those songs\n",
    "3. Average the BPM and chart the trends over the course of many years\n",
    "\n",
    "Each of these things occur in 3 files:\n",
    "1. billboard.py\n",
    "2. bpm.py\n",
    "3. visualization.py\n",
    "\n",
    "## Step One ##\n",
    "We found this [Billboard Top 100](BillboardTop100of.com) website to scrape our data from. The Billboard Top 100 contains the rank, artist, and song for up to the top 100 songs for years 1940 to 2021. Some of the Top Billboards in the 40s contain only 30 to 80 songs, but beggars can't be choosers.\n",
    "\n",
    "The metric for ranking on this website is based off of the Billboard Magazine, which has been keeping track of the music industry for years now.\n",
    "\n",
    "### 1a. Scraping the Data ###\n",
    "To analyze the data's BPM, we first need to scrape it from this website. We chose to scrape our data from the [Billboard Top 100](BillboardTop100of.com), since the APIs we found didn't provide all of the information we needed for free.\n",
    "\n",
    "Each year contained a table made up of the song information for that year. To extract all of the information in that table (rank, artist, song), we used the Python Requests library to grab all of the data for a given year. We then parsed our data using BeautifulSoup, and then extracted all of the important information from that HTML parse by finding all data within a given tag (also by using Beautiful Soup)."
   ]
  },
  {
   "cell_type": "code",
   "execution_count": null,
   "metadata": {},
   "outputs": [],
   "source": [
    "# The function we used to grab Billboard data for a given year.\n",
    "def get_data(year):\n",
    "    # Years 1940 and 2020 had different URLs than every other year \n",
    "    if year == (2020):\n",
    "        url = \"http://billboardtop100of.com/billboard-top-100-songs-2020-2/\"\n",
    "    elif year == 1940:\n",
    "        url = \"http://billboardtop100of.com/336-2/\"\n",
    "    else:\n",
    "        url = f\"http://billboardtop100of.com/{year}-2/\"\n",
    "    response = requests.get(url)\n",
    "    data = BeautifulSoup(response.content, \"html.parser\")\n",
    "    return data"
   ]
  },
  {
   "cell_type": "markdown",
   "metadata": {},
   "source": [
    "We won't print out all of the data returns from the HTML Request, since it's pretty much a bunch of gibberish with some important information sprinkled in between. \n",
    "\n",
    "To figure out what tag we needed to look for, we went in to the [Billboard Top 100](BillboardTop100of.com) page for the given year and inspected an element that we needed (i.e. \"The Weeknd\"). We did end up doing this for about 15 pages or so, since years 1945 to 2016 had the same body tags, while all remaining years had varying tags. "
   ]
  },
  {
   "cell_type": "code",
   "execution_count": 6,
   "metadata": {},
   "outputs": [
    {
     "name": "stdout",
     "output_type": "stream",
     "text": [
      "4\n"
     ]
    }
   ],
   "source": [
    "# how to make variables global?\n",
    "# check 2013 and 2015 data\n",
    "data = get_data(2014)\n",
    "music_data = data.findAll(\"p\")\n",
    "\n",
    "print(music_data)"
   ]
  },
  {
   "cell_type": "markdown",
   "metadata": {},
   "source": [
    "### 1b. Cleaning the Data ###\n",
    "As we can see, `music_data` contains the information we need, but also contains a bunch of HTML code that we don't need. It also isn't formatted properly; at the end of all this, we want a list of lists that contain three string elements: the rank, artist, and song for all ~100 songs of the year.\n",
    "\n",
    "For the more straightforward years, where each rank, artist, and song were already separated into a list of strings with random newlines or external links in between, the `remove_long_tags` function was used to clean all of that data by calling one line of code.\n",
    "\n",
    "Some years had more convoluted tags, line breaks, external images, etc. stuck in between important information, so those were cleaned using the `remove_long_tags` function in addition to other `.replace` commands."
   ]
  },
  {
   "cell_type": "code",
   "execution_count": null,
   "metadata": {},
   "outputs": [],
   "source": [
    "# An example of what cleaning a less-messy data set looks like\n",
    "\n",
    "# Removing all p-tags, \"amp;\", \"/n\", and more for 2014\n",
    "clean_data = remove_long_tags(\"<p\", music_data)\n",
    "\n",
    "# Removes all external links (images, additional information)\n",
    "clean_data_more = remove_long_tags(\"<a\", clean_data)\n",
    "\n",
    "# Splits the list of strings into a list of lists, grouping the strings into\n",
    "# lists at intervals of three\n",
    "split_list = split_list_into_three(clean_data_more)\n",
    "\n",
    "print(split_list)"
   ]
  },
  {
   "cell_type": "markdown",
   "metadata": {},
   "source": [
    "### 1c. Loading the Data into the Data Frame ***\n",
    "`split_list` is then loaded into the data frame using the `import_to_df` function in `billboard_functions.py`. This data frame is 80 columns (one for each year searched for, excluding 2021) by 100 rows (one for every song on the Billboard Top 100 for each year)."
   ]
  },
  {
   "cell_type": "code",
   "execution_count": null,
   "metadata": {},
   "outputs": [],
   "source": [
    "# The function used to load the files into the data frame\n",
    "def import_to_df(split_list, year, df):\n",
    "    for i in range(1, len(split_list) + 1):\n",
    "        df.at[i, year] = split_list[i - 1]\n",
    "        \n",
    "    df.to_csv(\"../data/top100.csv\")"
   ]
  }
 ],
 "metadata": {
  "interpreter": {
   "hash": "916dbcbb3f70747c44a77c7bcd40155683ae19c65e1c03b4aa3499c5328201f1"
  },
  "kernelspec": {
   "display_name": "Python 3.8.10 64-bit",
   "language": "python",
   "name": "python3"
  },
  "language_info": {
   "codemirror_mode": {
    "name": "ipython",
    "version": 3
   },
   "file_extension": ".py",
   "mimetype": "text/x-python",
   "name": "python",
   "nbconvert_exporter": "python",
   "pygments_lexer": "ipython3",
   "version": "3.8.10"
  },
  "orig_nbformat": 4
 },
 "nbformat": 4,
 "nbformat_minor": 2
}
